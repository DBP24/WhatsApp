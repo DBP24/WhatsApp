{
 "cells": [
  {
   "cell_type": "code",
   "execution_count": 17,
   "id": "18b3b4a4-312c-4caf-8d22-400430c9cee1",
   "metadata": {},
   "outputs": [],
   "source": [
    "from selenium import webdriver\n",
    "from selenium.webdriver.common.by import By \n",
    "from selenium.webdriver.support import expected_conditions as EC\n",
    "from selenium.webdriver.support.ui import WebDriverWait \n",
    "\n",
    "import base64"
   ]
  },
  {
   "cell_type": "code",
   "execution_count": 18,
   "id": "c426df9a-d06c-4208-9338-5db510a726f1",
   "metadata": {},
   "outputs": [],
   "source": [
    "options = webdriver.ChromeOptions()\n",
    "options.add_argument(\"--no-sandbox\")"
   ]
  },
  {
   "cell_type": "code",
   "execution_count": 19,
   "id": "ffedc59c-912e-4acd-8ef3-ed07153aecb0",
   "metadata": {},
   "outputs": [],
   "source": [
    "# Creamos el Driver y abrimos chrome\n",
    "driver = webdriver.Chrome(options=options)"
   ]
  },
  {
   "cell_type": "code",
   "execution_count": 20,
   "id": "2c5f832e-4a4c-486e-9d33-272acfb98c73",
   "metadata": {},
   "outputs": [],
   "source": [
    "# Abrimos la pagina web de WhatsApp\n",
    "driver.get('https://web.whatsapp.com/')"
   ]
  },
  {
   "cell_type": "code",
   "execution_count": null,
   "id": "0ed460e7-2016-4ab7-a47e-a9c72afc535a",
   "metadata": {},
   "outputs": [],
   "source": [
    "# Elemento que espera un tiempo a que cargue el Canvas , maximo de 30 segundos\n",
    "qr_element = WebDriverWait(driver,30).until(\n",
    "    EC.presence_of_element_located((By.TAG_NAME,'canvas'))\n",
    ")"
   ]
  },
  {
   "cell_type": "code",
   "execution_count": 21,
   "id": "4d3510f5-5359-4f1d-aa25-208d9b7e7c91",
   "metadata": {},
   "outputs": [],
   "source": [
    "qr_canvas = driver.find_element(By.TAG_NAME,'canvas')"
   ]
  },
  {
   "cell_type": "code",
   "execution_count": 22,
   "id": "39d306fd-9ec7-4af1-80a5-14960e831ff5",
   "metadata": {},
   "outputs": [],
   "source": [
    "qr_base_64 = driver.execute_script(\"return arguments[0].toDataURL('image.png').substring(22);\",qr_canvas)"
   ]
  },
  {
   "cell_type": "code",
   "execution_count": 23,
   "id": "a8534191-9f40-454b-a803-35805ef69b9e",
   "metadata": {},
   "outputs": [],
   "source": [
    "qr_file_path = 'barcode_whatsapp.png'"
   ]
  },
  {
   "cell_type": "code",
   "execution_count": 25,
   "id": "2ea5453a-df95-4cae-ac52-fc706aceb8de",
   "metadata": {},
   "outputs": [],
   "source": [
    "with open(qr_file_path,'wb') as qr_file:\n",
    "    qr_file.write(base64.b64decode(qr_base_64))"
   ]
  },
  {
   "cell_type": "code",
   "execution_count": 26,
   "id": "f15d9223-bd9b-477f-9f7a-e5a9071f1519",
   "metadata": {},
   "outputs": [],
   "source": [
    "search_box =  driver.find_element(By.XPATH,\"//div[@contenteditable='true'][@data-tab='3']\")"
   ]
  },
  {
   "cell_type": "code",
   "execution_count": 32,
   "id": "1e3d373b-74d5-43f8-9ba6-65a2b55bcc58",
   "metadata": {},
   "outputs": [],
   "source": [
    "search_box.clear()\n",
    "search_box.send_keys('Gorda')\n",
    "search_box.send_keys(u'\\ue007')"
   ]
  },
  {
   "cell_type": "code",
   "execution_count": 33,
   "id": "ba255987-7b1f-460b-8556-b1c6f33bdab7",
   "metadata": {},
   "outputs": [],
   "source": [
    "msg_box = driver.find_element(By.XPATH,\"//div[@contenteditable='true'][@data-tab='10']\")\n",
    "msg_box.send_keys('Vamos realizando pruebas Diego Bonatti')\n",
    "msg_box.send_keys(u'\\ue007')"
   ]
  }
 ],
 "metadata": {
  "kernelspec": {
   "display_name": "Python 3 (ipykernel)",
   "language": "python",
   "name": "python3"
  },
  "language_info": {
   "codemirror_mode": {
    "name": "ipython",
    "version": 3
   },
   "file_extension": ".py",
   "mimetype": "text/x-python",
   "name": "python",
   "nbconvert_exporter": "python",
   "pygments_lexer": "ipython3",
   "version": "3.11.0"
  }
 },
 "nbformat": 4,
 "nbformat_minor": 5
}
